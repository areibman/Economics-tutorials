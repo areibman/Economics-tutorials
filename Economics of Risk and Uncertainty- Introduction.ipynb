{
 "cells": [
  {
   "cell_type": "markdown",
   "metadata": {},
   "source": [
    "# Thinking about Risk and Uncertainty"
   ]
  },
  {
   "cell_type": "markdown",
   "metadata": {},
   "source": [
    "This series of posts will be an introduction to the economics of risk and uncertainty as well as some finance. To make it easy to follow along, everything will be recorded in Python and uploaded to my Github as an iPython notebook.\n",
    "\n"
   ]
  },
  {
   "cell_type": "markdown",
   "metadata": {},
   "source": [
    "If you were offered a bet that you were nearly certain to win, would you take it? Consider the following scenario:\n",
    "\n",
    "You have \\$100. In a lottery, you have an 80% chance of earning \\$120 (\\$100+20) and a 20% chance of losing your \\$100. Would you choose to take such a bet? Would you play it the other way around and bet on the 20% chance to win \\$180? Would you even play this bet at all? During the 2016 presidential election, several thousands of people made this very bet using political gambling websites (and not everyone was happy with the results).\n"
   ]
  },
  {
   "cell_type": "markdown",
   "metadata": {},
   "source": [
    "![alt text](https://sparkcognition.com/wp-content/uploads/2016/10/ashvin-4.png)\n"
   ]
  },
  {
   "cell_type": "markdown",
   "metadata": {},
   "source": [
    "From assessing stocks to picking insurance plans, risk assessment is incredibly valuable skill with a lot of hidden complexity. Furthermore, learning to understand risk better helps us engage with problems of judicial importance such as legal negligence standards and political importance such as climate change regulations. \n",
    "\n",
    "Even Batman V Superman makes a nod to the idea of existential risk calculus: "
   ]
  },
  {
   "cell_type": "markdown",
   "metadata": {},
   "source": [
    "![alt text](https://www.overthinkingit.com/wp-content/uploads/2016/03/bruce_wayne_1percent_doctrine-590x267.jpg)\n",
    "#### “He has the power to wipe out the entire human race and if we believe there’s even if it’s a 1% chance that he is our enemy we have to take it as an absolute certainty!”"
   ]
  },
  {
   "cell_type": "markdown",
   "metadata": {},
   "source": [
    "## The 2 characteristics of uncertain environments"
   ]
  },
  {
   "cell_type": "markdown",
   "metadata": {},
   "source": [
    "Given a choice made by a decision maker, an outcome is any possible occurrence that affects someone in some way. Mathematically speaking, an **outcome** (the first characteristic) is a parameter that affects the well-being (utility) of the decision maker.\n",
    "\n",
    "For simplicity’s sake, we assume that the number of possible outcomes is always finite: \n"
   ]
  },
  {
   "cell_type": "code",
   "execution_count": 17,
   "metadata": {
    "collapsed": false
   },
   "outputs": [],
   "source": [
    "#First, get the import statements out of the way\n",
    "from __future__ import division\n",
    "import math\n",
    "import numpy as np\n",
    "from IPython.display import display, Image, HTML, Latex, Math\n",
    "import pandas as pd\n",
    "import matplotlib.pyplot as plt\n",
    "import IPython.core.display as di\n",
    "\n",
    "%matplotlib inline"
   ]
  },
  {
   "cell_type": "code",
   "execution_count": 18,
   "metadata": {
    "collapsed": false
   },
   "outputs": [
    {
     "name": "stdout",
     "output_type": "stream",
     "text": [
      "[None, None, None, None, None]\n"
     ]
    }
   ],
   "source": [
    "#Outcomes are always finite in terms of some arbitrary N\n",
    "N=5\n",
    "\n",
    "#This lottery is of size N and has no outcomes\n",
    "outcomes = [None]*N\n",
    "print(outcomes)"
   ]
  },
  {
   "cell_type": "markdown",
   "metadata": {},
   "source": [
    "For example, a coin flip would have 2 possible outcomes: Heads or Tails. But knowing the outcomes alone isn’t particularly interesting. What we’re interested in is the _outcomes_ and their _corresponding probabilities_. So, the vector of **probabilities** (the second characteristic) is the list of probabilities corresponding to a list of outcomes. Each probability must be $\\ge$ 0 and the sum of the probabilities must equal 1.\n",
    "\n",
    "If we assume that a coin is fair, then the probability of Heads is equal to 0.50, and the probability of Tails is also equal to 0.50. "
   ]
  },
  {
   "cell_type": "code",
   "execution_count": 19,
   "metadata": {
    "collapsed": false
   },
   "outputs": [
    {
     "name": "stdout",
     "output_type": "stream",
     "text": [
      "[0.2, 0.2, 0.2, 0.2, 0.2]\n"
     ]
    }
   ],
   "source": [
    "#The probabilities in an event where each outcome is equally likely\n",
    "probabilities = [1/N for i in range(0,N)]\n",
    "print(probabilities)"
   ]
  },
  {
   "cell_type": "markdown",
   "metadata": {},
   "source": [
    "Together, the corresponding lists of outcomes and probabilities forms a **lottery**."
   ]
  },
  {
   "cell_type": "code",
   "execution_count": 20,
   "metadata": {
    "collapsed": false
   },
   "outputs": [],
   "source": [
    "#A lottery is the list of outcomes and their corresponding probabilities\n",
    "def lottery(outcomes, probs):\n",
    "    assert len(outcomes)==len(probs)\n",
    "    assert sum(probs)==1.0\n",
    "    \n",
    "    lotto= zip(outcomes, probs)\n",
    "    return lotto"
   ]
  },
  {
   "cell_type": "code",
   "execution_count": 21,
   "metadata": {
    "collapsed": false
   },
   "outputs": [
    {
     "name": "stdout",
     "output_type": "stream",
     "text": [
      "Previous example [(None, 0.2), (None, 0.2), (None, 0.2), (None, 0.2), (None, 0.2)] \n",
      "\n",
      "Fair coin flip: [('H', 0.5), ('T', 0.5)] \n",
      "\n",
      "Another example: [('$1000', 0.1), ('$4', 0.85), ('$-300', 0.05)] \n",
      "\n"
     ]
    }
   ],
   "source": [
    "example_lottery = lottery(outcomes,probabilities)\n",
    "print \"Previous example\", example_lottery,\"\\n\"\n",
    "\n",
    "#fair coin\n",
    "sides = ['H','T']\n",
    "coin_probs = [0.5,0.5]\n",
    "coin_lotto = lottery(sides, coin_probs)\n",
    "print \"Fair coin flip:\",coin_lotto,\"\\n\"\n",
    "\n",
    "#ex2 \n",
    "ex2_outcomes = [\"$1000\", \"$4\", \"$-300\"]\n",
    "ex2_probs = [0.1, .85, .05]\n",
    "ex2_lotto = lottery(ex2_outcomes,ex2_probs)\n",
    "print \"Another example:\",ex2_lotto,\"\\n\""
   ]
  },
  {
   "cell_type": "markdown",
   "metadata": {},
   "source": [
    "Furthermore, a lottery may also contain lotteries. This is called a **compound lottery**."
   ]
  },
  {
   "cell_type": "code",
   "execution_count": 22,
   "metadata": {
    "collapsed": false
   },
   "outputs": [
    {
     "name": "stdout",
     "output_type": "stream",
     "text": [
      "[(10, 0.5), ([('H', 0.5), ('T', 0.5)], 0.5)]\n"
     ]
    }
   ],
   "source": [
    "#A compound lottery is a lottery that may contain other lotteries\n",
    "ex3_outcomes = [10, coin_lotto]\n",
    "ex3_probs = [0.5,0.5]\n",
    "ex3_lotto = lottery(ex3_outcomes,ex3_probs)\n",
    "print ex3_lotto"
   ]
  },
  {
   "cell_type": "markdown",
   "metadata": {},
   "source": [
    "Just like with a probability mass function (PMF), we can calculate the **expected value** of a lottery by finding the sum of the products of each outcome and its probability."
   ]
  },
  {
   "cell_type": "code",
   "execution_count": 23,
   "metadata": {
    "collapsed": true
   },
   "outputs": [],
   "source": [
    "def expected_value(lottery):\n",
    "    mean = 0\n",
    "    for outcome, probability in lottery:\n",
    "        mean+= outcome*probability\n",
    "    return mean"
   ]
  },
  {
   "cell_type": "markdown",
   "metadata": {
    "slideshow": {
     "slide_type": "-"
    }
   },
   "source": [
    "Here, the expected value is 0\n"
   ]
  },
  {
   "cell_type": "code",
   "execution_count": 24,
   "metadata": {
    "collapsed": false
   },
   "outputs": [
    {
     "name": "stdout",
     "output_type": "stream",
     "text": [
      "0.0\n"
     ]
    }
   ],
   "source": [
    "ex3_lotto = lottery([1,-1],[.5,.5])\n",
    "print expected_value(ex3_lotto)"
   ]
  },
  {
   "cell_type": "markdown",
   "metadata": {},
   "source": [
    "Now, given this framework, we can calculate the value of a real lottery such as a powerball lottery."
   ]
  },
  {
   "cell_type": "code",
   "execution_count": 25,
   "metadata": {
    "collapsed": false
   },
   "outputs": [
    {
     "name": "stdout",
     "output_type": "stream",
     "text": [
      "The expected value of your ticket: -0.966666663333\n"
     ]
    }
   ],
   "source": [
    "#Odds of winning a jackpot (a rough guess)\n",
    "powerball_prob = 1.0/300000000\n",
    "#Odds of losing\n",
    "loss_prob = 1-powerball_prob\n",
    "\n",
    "#Jackpot\n",
    "jackpot = 10000000\n",
    "ticket_price = -1\n",
    "\n",
    "powerball = lottery([jackpot,ticket_price],[powerball_prob,loss_prob])\n",
    "print \"The expected value of your ticket:\",expected_value(powerball)"
   ]
  },
  {
   "cell_type": "markdown",
   "metadata": {},
   "source": [
    "The expected value is a powerful idea because it helps us order our preferences between lotteries. The expected value implies three things:\n",
    "\n",
    "•\tWhen the expected value of a lottery is greater than a guaranteed option, a decision maker will choose the lottery. \n",
    "\n",
    "•\tConversely, if the expected value of a lottery is lower than a guaranteed option, a decision maker will always choose the guaranteed option. \n",
    "\n",
    "•\tFinally, if the expected value of a lottery is equal to the value of a guaranteed option, the decision maker will be indifferent between the two. \n",
    "\n",
    "Simply put, For all lotteries $L1,L2$ either $L1 \\succsim L2$ or $L2 \\succsim L1$ where $\\succsim$ indicates a preference relationship. For more information, check out the [Debreu theorems](https://en.wikipedia.org/wiki/Debreu_theorems \"Debreu theorems\")\n",
    "\n"
   ]
  },
  {
   "cell_type": "markdown",
   "metadata": {},
   "source": [
    "# The St. Petersburg Paradox"
   ]
  },
  {
   "cell_type": "markdown",
   "metadata": {},
   "source": [
    "Finding the expectation of a lottery may seem like a useful tool in most decision-making situations, but consider the following gamble:"
   ]
  },
  {
   "cell_type": "markdown",
   "metadata": {},
   "source": [
    "Suppose you were made an offer. A fair coin would be tossed continuously until it turned up tails. If the coin came up tails on the $n^{th}$ toss, you would receive $\\$2^n$ i.e. if it came up tails on the 5th toss, you would receive $\\$2^5 = \\$32$. How much would you be willing to pay to participate in this lottery?"
   ]
  },
  {
   "cell_type": "markdown",
   "metadata": {},
   "source": [
    "Intuitively, we already know that not many people would spend much to play this game. But why? To visualize the paradox, we can re-write the game in Python.\n",
    "\n",
    "**Game**: Get payoff that depends on when heads comes up first on toss of fair win.\n",
    "\n",
    "**Payoff**: $2^i$ where $i$ = toss number of first H"
   ]
  },
  {
   "cell_type": "code",
   "execution_count": 26,
   "metadata": {
    "collapsed": true
   },
   "outputs": [],
   "source": [
    "def game():\n",
    "    i = 0 #number of heads\n",
    "    while(True):\n",
    "        flip = (np.random.randint(low=0,high=2))\n",
    "        #If the flip is a tails, return the payoff\n",
    "        if flip == 0:\n",
    "            return 2**(i-1)\n",
    "        #If the flip is a heads, flip again\n",
    "        else:\n",
    "            i += 1"
   ]
  },
  {
   "cell_type": "code",
   "execution_count": 27,
   "metadata": {
    "collapsed": false
   },
   "outputs": [
    {
     "name": "stdout",
     "output_type": "stream",
     "text": [
      "('Expected value of sample:', 2.8277999999999999)\n"
     ]
    },
    {
     "data": {
      "image/png": "[encoded data removed]",
      "text/plain": [
       "<matplotlib.figure.Figure at 0xd18f4a8>"
      ]
     },
     "metadata": {},
     "output_type": "display_data"
    }
   ],
   "source": [
    "trials = [game() for x in xrange(0,10000)]\n",
    "\n",
    "plt.figure(figsize=(15,5))\n",
    "plt.plot(trials)\n",
    "plt.xlabel(\"Trial number\")\n",
    "plt.ylabel(\"Payoff\")\n",
    "plt.title(\"St. Petersburg Lottery\")\n",
    "print(\"Expected value of sample:\", np.mean(trials))"
   ]
  },
  {
   "cell_type": "markdown",
   "metadata": {},
   "source": [
    "This question is asking for the amount someone would be willing to pay for such a lottery, so we can consider this question as asking for the certainty equivalent of the lottery. The __certainty equivalent__ is the guaranteed amount of money that an individual would consider just as desirable as a risky asset (lottery). We calculate the certainty equivalent by taking the expected value of the lottery. But given exponential payoff of this function, we encounter a problem: This gamble as an _infinite expected value_!"
   ]
  },
  {
   "cell_type": "markdown",
   "metadata": {},
   "source": [
    "Expected payoff = $(\\frac{1}{2}^0 *2^0) + (\\frac{1}{2}*2^1) + (\\frac{1}{2}^2 *2^2) + (\\frac{1}{2}^3 *2^3) + … + (\\frac{1}{2}^i *2^i)  =\\infty $"
   ]
  },
  {
   "cell_type": "markdown",
   "metadata": {},
   "source": [
    "Despite the fact that the expected payoff is $∞$, only a few people are willing to pay much for this lottery.\n",
    "\n",
    "This problem is known as the St. Petersburg Paradox. To understand why decision makers are not willing to purchase this lottery, it is important to understand that decision makers are __utility maximizers__ not __outcome maximizers__. Instead of calculating the expected value of the lottery, we instead calculate the __expected utility__ of the lottery. \n"
   ]
  },
  {
   "cell_type": "markdown",
   "metadata": {},
   "source": [
    "Mathematician Daniel Bernoulli, the brother of the man who created the paradox, suggested that when we take utility into account, we can develop a solution. He states, “_The determination of the value of an item must not be based on the price, but rather on the utility it yields…. There is no doubt that a gain of one thousand ducats is more significant to the pauper than to a rich man though both gain the same amount_”\n",
    "\n",
    "This theory of utility maximization is explained by the law of __diminishing marginal utility__ which states that when a decision maker consumes a specific good, the next good consumed will be less enjoyable than the previous. So, the marginal utility, the difference of utility between the consumption of a good and the consumption of a consecutive good, will decrease. \n"
   ]
  },
  {
   "cell_type": "code",
   "execution_count": 28,
   "metadata": {
    "collapsed": false
   },
   "outputs": [
    {
     "data": {
      "text/html": [
       "<table border=\"1\" class=\"dataframe\">\n",
       "  <thead>\n",
       "    <tr style=\"text-align: right;\">\n",
       "      <th>n</th>\n",
       "      <th>Payoff</th>\n",
       "      <th>Probability</th>\n",
       "      <th>Expected Payoff</th>\n",
       "      <th>Bernoulli Utility Function</th>\n",
       "      <th>Expected Utility</th>\n",
       "    </tr>\n",
       "  </thead>\n",
       "  <tbody>\n",
       "    <tr>\n",
       "      <td>0</td>\n",
       "      <td>1</td>\n",
       "      <td>1.000000</td>\n",
       "      <td>1</td>\n",
       "      <td>0.000000</td>\n",
       "      <td>0.000000</td>\n",
       "    </tr>\n",
       "    <tr>\n",
       "      <td>1</td>\n",
       "      <td>2</td>\n",
       "      <td>0.500000</td>\n",
       "      <td>1</td>\n",
       "      <td>0.693147</td>\n",
       "      <td>0.346574</td>\n",
       "    </tr>\n",
       "    <tr>\n",
       "      <td>2</td>\n",
       "      <td>4</td>\n",
       "      <td>0.250000</td>\n",
       "      <td>1</td>\n",
       "      <td>1.386294</td>\n",
       "      <td>0.346574</td>\n",
       "    </tr>\n",
       "    <tr>\n",
       "      <td>3</td>\n",
       "      <td>8</td>\n",
       "      <td>0.125000</td>\n",
       "      <td>1</td>\n",
       "      <td>2.079442</td>\n",
       "      <td>0.259930</td>\n",
       "    </tr>\n",
       "    <tr>\n",
       "      <td>4</td>\n",
       "      <td>16</td>\n",
       "      <td>0.062500</td>\n",
       "      <td>1</td>\n",
       "      <td>2.772589</td>\n",
       "      <td>0.173287</td>\n",
       "    </tr>\n",
       "    <tr>\n",
       "      <td>5</td>\n",
       "      <td>32</td>\n",
       "      <td>0.031250</td>\n",
       "      <td>1</td>\n",
       "      <td>3.465736</td>\n",
       "      <td>0.108304</td>\n",
       "    </tr>\n",
       "    <tr>\n",
       "      <td>6</td>\n",
       "      <td>64</td>\n",
       "      <td>0.015625</td>\n",
       "      <td>1</td>\n",
       "      <td>4.158883</td>\n",
       "      <td>0.064983</td>\n",
       "    </tr>\n",
       "    <tr>\n",
       "      <td>7</td>\n",
       "      <td>128</td>\n",
       "      <td>0.007812</td>\n",
       "      <td>1</td>\n",
       "      <td>4.852030</td>\n",
       "      <td>0.037906</td>\n",
       "    </tr>\n",
       "    <tr>\n",
       "      <td>8</td>\n",
       "      <td>256</td>\n",
       "      <td>0.003906</td>\n",
       "      <td>1</td>\n",
       "      <td>5.545177</td>\n",
       "      <td>0.021661</td>\n",
       "    </tr>\n",
       "    <tr>\n",
       "      <td>9</td>\n",
       "      <td>512</td>\n",
       "      <td>0.001953</td>\n",
       "      <td>1</td>\n",
       "      <td>6.238325</td>\n",
       "      <td>0.012184</td>\n",
       "    </tr>\n",
       "  </tbody>\n",
       "</table>"
      ],
      "text/plain": [
       "<IPython.core.display.HTML object>"
      ]
     },
     "metadata": {},
     "output_type": "display_data"
    }
   ],
   "source": [
    "def utility_table(size):\n",
    "    n = np.arange(0, size, 1)\n",
    "\n",
    "    p = pd.DataFrame()\n",
    "    p['n'] = n\n",
    "    payoff = 2**n\n",
    "    p['Payoff'] = payoff\n",
    "    p['Probability'] = 0.5**n\n",
    "    p['Expected Payoff'] = p['Payoff']*p['Probability']\n",
    "    p['Bernoulli Utility Function'] = np.log(payoff)\n",
    "    p['Expected Utility'] = p['Bernoulli Utility Function']*p['Probability']\n",
    "    return p\n",
    "\n",
    "table = utility_table(size=10)\n",
    "display(HTML(table.to_html(index=False)))\n",
    "\n"
   ]
  },
  {
   "cell_type": "markdown",
   "metadata": {},
   "source": [
    "Given Bernoulli’s hypothesis of diminishing marginal utility, we can show that although the outcomes increase with each bet, the _utility gained from each consecutive outcome will be lower than the last_. Bernoulli suggests that we can model the decision maker’s utility using a natural log function. The natural log function is useful since it is __monotonic__ (each additional unit provides additional gains in utility) yet __diminishing__ such that the gains converge to 0 as x approaches $\\infty$. \n",
    "$$u (x) = ln(x) \\\\  u'(x) = 1 / x$$"
   ]
  },
  {
   "cell_type": "code",
   "execution_count": 29,
   "metadata": {
    "collapsed": false
   },
   "outputs": [
    {
     "data": {
      "text/plain": [
       "[]"
      ]
     },
     "execution_count": 29,
     "metadata": {},
     "output_type": "execute_result"
    },
    {
     "data": {
      "image/png": "[encoded data removed]",
      "text/plain": [
       "<matplotlib.figure.Figure at 0xd22f860>"
      ]
     },
     "metadata": {},
     "output_type": "display_data"
    }
   ],
   "source": [
    "t = np.arange(1, 10, 0.2)\n",
    "\n",
    "constant = plt.plot(t, t, 'r', label=\"Constant returns\", linewidth=3)\n",
    "diminishing = plt.plot(t, np.log(t), 'b', label=\"Diminishing Returns\",linewidth=3)\n",
    "plt.legend(loc=\"center right\",)\n",
    "\n",
    "plt.xlabel(\"Quanity consumed\")\n",
    "plt.ylabel(\"Total Utility\")\n",
    "plt.title(\"Constant marginal returns vs diminishing marginal returns\")\n",
    "plt.plot()"
   ]
  },
  {
   "cell_type": "markdown",
   "metadata": {},
   "source": [
    "Graphically, we can see utility uniformly increases as the payoff exponentially increases. However, the expected utility __decreases__ since the probability exponentially decreases. \n"
   ]
  },
  {
   "cell_type": "code",
   "execution_count": 30,
   "metadata": {
    "collapsed": false
   },
   "outputs": [
    {
     "data": {
      "text/plain": [
       "[]"
      ]
     },
     "execution_count": 30,
     "metadata": {},
     "output_type": "execute_result"
    },
    {
     "data": {
      "image/png": "[encoded data removed]",
      "text/plain": [
       "<matplotlib.figure.Figure at 0xe323b38>"
      ]
     },
     "metadata": {},
     "output_type": "display_data"
    },
    {
     "data": {
      "image/png": "[encoded data removed]",
      "text/plain": [
       "<matplotlib.figure.Figure at 0xe511f98>"
      ]
     },
     "metadata": {},
     "output_type": "display_data"
    }
   ],
   "source": [
    "table = utility_table(size=5)\n",
    "\n",
    "plt.figure(\"Bernoulli Utility Function\")\n",
    "\n",
    "expected_payoff= plt.plot(table['n'], table['Expected Payoff'], 'r', label=\"Expected Payoff\",linewidth=3)\n",
    "diminishing = plt.plot(table['n'], table['Bernoulli Utility Function'], 'g', label=\"Utility\",linewidth=3)\n",
    "expected_utility = plt.plot(table['n'], table['Expected Utility'], 'b', label=\"Expected Utility\",linewidth=3)\n",
    "plt.legend(loc=\"center right\",)\n",
    "plt.xlabel(\"Number of heads\")\n",
    "plt.ylabel(\"Returns\")\n",
    "plt.title(\"Utility vs Payoff\")\n",
    "plt.plot()\n",
    "\n",
    "plt.figure(\"Comparison\")\n",
    "constant = plt.plot(table['n'], table['Payoff'], 'r', label=\"Payoff\", linewidth=3)\n",
    "diminishing = plt.plot(table['n'], table['Bernoulli Utility Function'], 'g', label=\"Utility\",linewidth=3)\n",
    "expected = plt.plot(table['n'], table['Expected Utility'], 'b', label=\"Expected Utility\",linewidth=3)\n",
    "\n",
    "plt.legend(loc=\"center right\",)\n",
    "plt.xlabel(\"Number of heads\")\n",
    "plt.ylabel(\"Returns\")\n",
    "plt.title(\"Utility vs Payoff\")\n",
    "plt.plot()"
   ]
  },
  {
   "cell_type": "markdown",
   "metadata": {},
   "source": [
    "For calculating the certainty equivalent, we need to take the sum of the expected utilities for an infinite number of trials. Since the function converges, we can reach an estimate as n approaches $\\infty$\n",
    "    $$E(L) = \\sum_{n=1}^{\\infty} \\frac{1}{2}^x * ln(x) \\\\ = \\sum_{n=1}^{\\infty} 2^{-x} * ln(x)$$\n"
   ]
  },
  {
   "cell_type": "markdown",
   "metadata": {
    "collapsed": true
   },
   "source": [
    "So, we can estimate the certainty equivalent as:\n",
    "    "
   ]
  },
  {
   "cell_type": "code",
   "execution_count": 31,
   "metadata": {
    "collapsed": false
   },
   "outputs": [
    {
     "name": "stdout",
     "output_type": "stream",
     "text": [
      "('The expected utility of the lottery is ', 1.3862943404624948)\n",
      "('The certainty equivalent of the lottery is ', 3.9999999173704177)\n"
     ]
    }
   ],
   "source": [
    "table = utility_table(size=1000)\n",
    "util_lottery = np.sum(table['Expected Utility'])\n",
    "print(\"The expected utility of the lottery is \",util_lottery)\n",
    "print(\"The certainty equivalent of the lottery is \",math.exp(util_lottery))\n"
   ]
  },
  {
   "cell_type": "markdown",
   "metadata": {},
   "source": [
    "Since we are still dealing with a utility function, the certainty equivalent will not be 1.386. Instead, it will be the antilog of 1.386. In other words, we are trying to find the parameter that makes our utility function = 1.386.\n",
    "So, we can estimate the certainty equivalent as:\n",
    "$$CE = e^{E(L)} = e^{1.386} = 4$$\n"
   ]
  },
  {
   "cell_type": "markdown",
   "metadata": {},
   "source": [
    "## A final note"
   ]
  },
  {
   "cell_type": "markdown",
   "metadata": {},
   "source": [
    "The logarithmic utility function that Bernoulli proposes is case specific to the $2^n$ lottery. By adjusting the values in the lottery, we can again make it a paradox with an infinite expected value. The St. Petersburg paradox is used to demonstrate that there are diminishing marginal returns to utility and we can take further steps to model choices under uncertainty."
   ]
  }
 ],
 "metadata": {
  "kernelspec": {
   "display_name": "Python 2",
   "language": "python",
   "name": "python2"
  },
  "language_info": {
   "codemirror_mode": {
    "name": "ipython",
    "version": 2
   },
   "file_extension": ".py",
   "mimetype": "text/x-python",
   "name": "python",
   "nbconvert_exporter": "python",
   "pygments_lexer": "ipython2",
   "version": "2.7.10"
  }
 },
 "nbformat": 4,
 "nbformat_minor": 0
}
